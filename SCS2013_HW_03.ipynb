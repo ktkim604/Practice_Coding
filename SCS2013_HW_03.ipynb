{
  "cells": [
    {
      "cell_type": "markdown",
      "metadata": {
        "id": "view-in-github",
        "colab_type": "text"
      },
      "source": [
        "<a href=\"https://colab.research.google.com/github/ktkim604/Practice_Coding/blob/main/SCS2013_HW_03.ipynb\" target=\"_parent\"><img src=\"https://colab.research.google.com/assets/colab-badge.svg\" alt=\"Open In Colab\"/></a>"
      ]
    },
    {
      "cell_type": "markdown",
      "id": "5cdf25e2",
      "metadata": {
        "id": "5cdf25e2"
      },
      "source": [
        "# SCS2013 Python Programming Homework 3 (100pts)\n",
        "\n",
        "About Functions!"
      ]
    },
    {
      "cell_type": "markdown",
      "source": [
        "## HW 3-1. Function (30pts)\n",
        "\n",
        "Instruction:\n",
        "\n",
        "1. (**10pt**) 과거의 값과 현재의 값을 비교해 몇 퍼센트가 증감했는지 계산하는 함수 `change_ratio` 함수를 구현하세요. \n",
        "- 함수는 두개의 숫자(과거값, 현재값)를 입력으로 받습니다.\n",
        "- 변화율(퍼센트)을 계산하여 반환합니다. (변화율은 과거 값 대비 현재 값이 얼만큼 바뀌었는지 그 비율을 의미합니다)\n",
        "\n",
        "실행 결과 (example):\n",
        "```\n",
        "print(change_ratio(20,25))\n",
        "print(change_ratio(25,20))\n",
        ">>\n",
        "25.0\n",
        "-20.0\n",
        "```\n",
        "\n",
        "2. (**20pt**) 1에서 구현한 `change_ratio` 함수를 사용하여 여러 해에 걸친 값의 증감 변화율의 평균을 계산하는 함수 `avg_change_ratio` 함수를 구현하세요. \n",
        "- n년 동안의 과거 값과 현재 값이 각각 리스트로 주어집니다.\n",
        "- 함수는 두개의 리스트를 입력으로 받습니다. \n",
        "- 1) 각 해의 변화율을 계산하고 모아 리스트를 만들고 \n",
        "- 2) n년 동안의 평균 변화율을 계산합니다.\n",
        "- 3) 각 해의 변화율 리스트와 평균 변화율을 모두 반환합니다.\n",
        "\n",
        "실행 결과 (example):\n",
        "```\n",
        "lst_1 = [20, 25, 40]\n",
        "lst_2 = [25, 40, 50]\n",
        "\n",
        "lst_ratio, average_ratio = avg_change_ratio(lst_1, lst_2)\n",
        "print('List of ratio: ', lst_ratio)\n",
        "print('Average ratio: ', average_ratio)\n",
        ">>\n",
        "List of ratio:  [25.0, 60.0, 25.0]\n",
        "Average ratio:  36.666666666666664\n",
        "```"
      ],
      "metadata": {
        "id": "7jKb9jo1hIKU"
      },
      "id": "7jKb9jo1hIKU"
    },
    {
      "cell_type": "code",
      "source": [
        "# 1\n",
        "# your code here\n",
        "# 변화율 계산식 = (증가량 or 감소량 / 과거값) x 100\n",
        "def change_ratio(past, current):\n",
        "  result = ((current-past)/past) * 100\n",
        "  return result\n",
        "\n"
      ],
      "metadata": {
        "id": "yNWEjdLohH5-"
      },
      "id": "yNWEjdLohH5-",
      "execution_count": 1,
      "outputs": []
    },
    {
      "cell_type": "code",
      "source": [
        "# check your function \n",
        "print(change_ratio(20,25))\n",
        "print(change_ratio(25,20))"
      ],
      "metadata": {
        "id": "m_EOr992hH2-",
        "colab": {
          "base_uri": "https://localhost:8080/"
        },
        "outputId": "cdaf8dc8-4e2c-43a9-c58a-f7f97a5cfd6f"
      },
      "id": "m_EOr992hH2-",
      "execution_count": 2,
      "outputs": [
        {
          "output_type": "stream",
          "name": "stdout",
          "text": [
            "25.0\n",
            "-20.0\n"
          ]
        }
      ]
    },
    {
      "cell_type": "code",
      "source": [
        "# 2\n",
        "# your code here\n",
        "def avg_change_ratio(past_lst, current_lst):\n",
        "  result_lst = []\n",
        "  for i in range(len(past_lst)):\n",
        "    result = ((current_lst[i]-past_lst[i])/past_lst[i]) * 100\n",
        "    result_lst.append(result)\n",
        "  avg = sum(result_lst) / len(result_lst)\n",
        "\n",
        "  return result_lst, avg\n"
      ],
      "metadata": {
        "id": "6MQF2_rIhH0K"
      },
      "id": "6MQF2_rIhH0K",
      "execution_count": 10,
      "outputs": []
    },
    {
      "cell_type": "code",
      "source": [
        "# check your function\n",
        "lst_1 = [20, 25, 40]\n",
        "lst_2 = [25, 40, 50]\n",
        "\n",
        "lst_ratio, average_ratio = avg_change_ratio(lst_1, lst_2)\n",
        "print('List of ratio: ', lst_ratio)\n",
        "print('Average ratio: ', average_ratio)"
      ],
      "metadata": {
        "id": "wxlbkGixllzS",
        "colab": {
          "base_uri": "https://localhost:8080/"
        },
        "outputId": "299a56f5-0a01-4726-e2f1-5c9b5fbe856a"
      },
      "id": "wxlbkGixllzS",
      "execution_count": 11,
      "outputs": [
        {
          "output_type": "stream",
          "name": "stdout",
          "text": [
            "List of ratio:  [25.0, 60.0, 25.0]\n",
            "Average ratio:  36.666666666666664\n"
          ]
        }
      ]
    },
    {
      "cell_type": "markdown",
      "source": [
        "## HW 3-2. Functions (20pt)\n",
        "\n",
        "Instruction: \n",
        "\n",
        "학생들에 대한 나이(age), 과목(course), 점수(score)에 대한 정보를 담고 있는 3개의 딕셔너리 `age_dct`, `course_dct`, `score_dct`가 다음과 같이 주어질 때, 학생들의 정보를 출력하는 `show_info` 함수를 구현하세요.\n",
        "\n",
        "- **아래의 함수 코드 중 빈 부분을 작성하세요.**\n",
        "- 함수는 학생의 이름(string)을 입력으로 받습니다. \n",
        "- 함수는 출력하고 싶은 정보(age, course, score)와 해당 딕셔너리를 원하는 갯수만큼 keyword 형태로 입력받습니다.\n",
        "  - 즉, 함수를 정의할 때 \"**\" 를 사용합니다.\n",
        "  - 예를 들어, 'Carlos'의 나이와 과목 정보를 출력하고자 한다면 함수의 호출은 `show_info('Carlos', age=age_dct, course=course_dct)`로 이루어집니다. \n",
        "  - 'Patrick'의 과목, 점수 정보를 출력하고자 한다면 `show_info('Patrick', course=course_dct, score=score_dct)`로 호출하여 사용할 수 있습니다.\n",
        "\n",
        "- 이 함수는 호출 시 입력 받은 딕셔너리 중에서 해당 학생의 정보를 아래와 같이 출력합니다. \n",
        "\n",
        "실행 결과 (1)\n",
        "```\n",
        "show_info('Carlos', age=age_dct, course=course_dct)\n",
        ">>>\n",
        "=====\n",
        "Name: Carlos\n",
        "age: 20\n",
        "course: Python_02\n",
        "=====\n",
        "```\n",
        "\n",
        "실행 결과 (2)\n",
        "```\n",
        "show_info('Patrick', course=course_dct, score=score_dct)\n",
        ">>>\n",
        "=====\n",
        "Name: Patrick\n",
        "course: Capstone\n",
        "score: 75\n",
        "=====\n",
        "```\n"
      ],
      "metadata": {
        "id": "gfbfJyIciE3D"
      },
      "id": "gfbfJyIciE3D"
    },
    {
      "cell_type": "code",
      "source": [
        "age_dct = {'Carlos': 20, 'Patrick': 18, 'Drake': 27}\n",
        "course_dct = {'Patrick': 'Capstone', 'Carlos': 'Python_02', 'Drake': 'Python_01'}\n",
        "score_dct = {'Carlos': 30, 'Drake': 100, 'Patrick': 75}"
      ],
      "metadata": {
        "id": "0vH6a47zyou8"
      },
      "id": "0vH6a47zyou8",
      "execution_count": 64,
      "outputs": []
    },
    {
      "cell_type": "code",
      "source": [
        "#your code here\n",
        "def show_info(names, **kwargs):\n",
        "  print('=====')\n",
        "    \n",
        "  # your code here: print student's name\n",
        "  print('Name:',names)\n",
        "  # your code here: print student's information as requested (입력으로 받은 정보 중 해당 학생의 정보를 출력)\n",
        "  for dic_name,dic in kwargs.items():\n",
        "    print(f'{dic_name}: {dic[names]}')\n",
        "\n",
        "  print('=====')"
      ],
      "metadata": {
        "id": "BVjib1kl5qGq"
      },
      "id": "BVjib1kl5qGq",
      "execution_count": 89,
      "outputs": []
    },
    {
      "cell_type": "code",
      "source": [
        "# check your function\n",
        "show_info('Carlos', age=age_dct, course=course_dct)\n",
        "show_info('Patrick', course=course_dct, score=score_dct)"
      ],
      "metadata": {
        "id": "PxPRlOclzz8l",
        "colab": {
          "base_uri": "https://localhost:8080/"
        },
        "outputId": "4403056e-7260-49de-9771-9e63c4b9f1db"
      },
      "id": "PxPRlOclzz8l",
      "execution_count": 90,
      "outputs": [
        {
          "output_type": "stream",
          "name": "stdout",
          "text": [
            "=====\n",
            "Name: Carlos\n",
            "age: 20\n",
            "course: Python_02\n",
            "=====\n",
            "=====\n",
            "Name: Patrick\n",
            "course: Capstone\n",
            "score: 75\n",
            "=====\n"
          ]
        }
      ]
    },
    {
      "cell_type": "markdown",
      "source": [
        "## HW 3-3. Lambda Function (30pts)\n",
        "\n",
        "Instruction:\n",
        "\n",
        "1. (**15pt**) `lambda` 함수, `map()`, `filter()`를 사용하여 아래 리스트 `student_lst`에서 주소 ('address')에 해당하는 값이 'unknown'인 사람의 정보를 삭제한 리스트 `new_lst`를 만들어보세요.\n",
        "\n",
        "실행 결과:\n",
        "```\n",
        "print(new_lst)\n",
        ">>>\n",
        "[{'name': 'Harry Potter', 'father': 'James Potter', 'address': 'Hogwarts School of Witchcraft and Wizardry'}, {'name': 'Cooper Garg', 'father': 'Kamal Garg', 'address': 'Dongguk University'}]\n",
        "\n",
        "```\n",
        "\n",
        "2. (**15pt**) lambda 함수를 사용하여 다양한 단어들로 이루어진 리스트 `words`에서 있는 단어들을 모두 대문자로 바꾼 리스트 `upper_words`를 만들어보세요. \n",
        "\n",
        "실행 결과:\n",
        "```\n",
        "print(upper_words)\n",
        ">>>\n",
        "['BANANA', 'MELON', 'MADAM', 'REFER', 'MANGO', 'KOREA']\n",
        "```"
      ],
      "metadata": {
        "id": "cPFZsjJnHK1D"
      },
      "id": "cPFZsjJnHK1D"
    },
    {
      "cell_type": "code",
      "source": [
        "# 1\n",
        "student_lst = [{'name': 'Harry Potter', 'father': 'James Potter', 'address': 'Hogwarts School of Witchcraft and Wizardry'}, \n",
        "               {'name': 'Emma Stone', 'father': 'Andrew Stone', 'address': 'Unknown'},\n",
        "               {'name': 'Cooper Garg', 'father': 'Kamal Garg', 'address': 'Dongguk University'},\n",
        "               {'name': 'Carol Steven', 'father': 'Jacob Steven', 'address': 'Unknown'}\n",
        "               ]\n",
        "\n",
        "\n",
        "# your code here\n",
        "new_lst = list(filter(lambda x: x['address'] != 'Unknown' , student_lst))\n",
        "print(new_lst)\n"
      ],
      "metadata": {
        "id": "zrZUjVepHKqz",
        "colab": {
          "base_uri": "https://localhost:8080/"
        },
        "outputId": "45b70dcc-75c0-4c6d-957d-188336dec9f2"
      },
      "id": "zrZUjVepHKqz",
      "execution_count": 93,
      "outputs": [
        {
          "output_type": "stream",
          "name": "stdout",
          "text": [
            "[{'name': 'Harry Potter', 'father': 'James Potter', 'address': 'Hogwarts School of Witchcraft and Wizardry'}, {'name': 'Cooper Garg', 'father': 'Kamal Garg', 'address': 'Dongguk University'}]\n"
          ]
        }
      ]
    },
    {
      "cell_type": "code",
      "source": [
        "# 2\n",
        "words = ['baNAna', 'meLon', 'madam', 'Refer', 'mango', 'KORea']\n",
        "\n",
        "# your code here\n",
        "\n",
        "new_word = list(map(lambda x: x.upper(), words))\n",
        "print(new_word)\n"
      ],
      "metadata": {
        "id": "x-lU26OHHKow",
        "colab": {
          "base_uri": "https://localhost:8080/"
        },
        "outputId": "9e160df1-65b2-4e31-a9fd-1f35c6597aa8"
      },
      "id": "x-lU26OHHKow",
      "execution_count": 103,
      "outputs": [
        {
          "output_type": "stream",
          "name": "stdout",
          "text": [
            "['BANANA', 'MELON', 'MADAM', 'REFER', 'MANGO', 'KOREA']\n"
          ]
        }
      ]
    },
    {
      "cell_type": "markdown",
      "id": "a0272551",
      "metadata": {
        "id": "a0272551"
      },
      "source": [
        "## HW 3-4. Recursion Function (20pts)\n",
        "\n",
        "Instruction: \n",
        "\n",
        "아래와 같이 1개의 루트 노드로 시작하여 모든 노드가 2개의 하위 노드를 가지는 구조를 \"포화 이진 트리\"라고 부릅니다. **재귀함수**를 사용하여 깊이 n을 가지는 포화 이진 트리의 총 노드 개수를 계산하는 함수 `binary_tree`를 작성하세요. \n",
        "\n",
        "- 함수는 포화 이진 트리의 깊이를 입력으로 받고, 해당 포화 이진 트리의 총 노드 개수를 계산하여 반환합니다.\n",
        "\n",
        "ex) \n",
        "```\n",
        "                   o\n",
        "              \n",
        "          o                  o\n",
        "\n",
        "     o         o        o         o\n",
        "     \n",
        "\n",
        "  o    o    o    o    o    o    o    o\n",
        "```\n",
        "- 깊이 0에서는 루트 노드 1개로 총 1개의 노드가 존재\n",
        "- 깊이 1에서는 루트 노드 1개 + 하위 노드 2개로 총 3개의 노드가 존재\n",
        "- 깊이 2에서는 깊이 1로부터 하위 노드가 4개 추가되어 총 7개의 노드가 존재 \n",
        "\n",
        "실행 결과:\n",
        "```\n",
        "print(binary_tree(0))\n",
        "print(binary_tree(1))\n",
        "print(binary_tree(2))\n",
        "print(binary_tree(3))\n",
        "print(binary_tree(4))\n",
        "print(binary_tree(5))\n",
        ">>>\n",
        "1\n",
        "3\n",
        "7\n",
        "15\n",
        "31\n",
        "63\n",
        "```"
      ]
    },
    {
      "cell_type": "code",
      "source": [
        "# your code here:\n",
        "\n",
        "\n",
        "def binary_tree(n):\n",
        "  if n<1: # end point \n",
        "    return 1\n",
        "  return 2**n + binary_tree(n-1)\n",
        "\n",
        "  # binary_tree(2) -> 4 + binary_tree(1) -> 4 + 2 + binary_tree(0) -> 4 + 2 + 1\n",
        "  \n",
        "  \n",
        "\n"
      ],
      "metadata": {
        "id": "HLLn9wvGBAvI"
      },
      "id": "HLLn9wvGBAvI",
      "execution_count": 26,
      "outputs": []
    },
    {
      "cell_type": "code",
      "source": [
        "# check your function\n",
        "print(binary_tree(0))\n",
        "print(binary_tree(1))\n",
        "print(binary_tree(2))\n",
        "print(binary_tree(3))\n",
        "print(binary_tree(4))\n",
        "print(binary_tree(5))"
      ],
      "metadata": {
        "id": "GahWcIaqEqpw",
        "colab": {
          "base_uri": "https://localhost:8080/"
        },
        "outputId": "ebdef6e4-a8c0-413a-be7c-a70c87752d4a"
      },
      "id": "GahWcIaqEqpw",
      "execution_count": 27,
      "outputs": [
        {
          "output_type": "stream",
          "name": "stdout",
          "text": [
            "1\n",
            "3\n",
            "7\n",
            "15\n",
            "31\n",
            "63\n"
          ]
        }
      ]
    },
    {
      "cell_type": "code",
      "source": [],
      "metadata": {
        "id": "lq093rKAc5qT"
      },
      "id": "lq093rKAc5qT",
      "execution_count": null,
      "outputs": []
    }
  ],
  "metadata": {
    "colab": {
      "collapsed_sections": [],
      "provenance": [],
      "toc_visible": true,
      "include_colab_link": true
    },
    "kernelspec": {
      "display_name": "Python 3 (ipykernel)",
      "language": "python",
      "name": "python3"
    },
    "language_info": {
      "codemirror_mode": {
        "name": "ipython",
        "version": 3
      },
      "file_extension": ".py",
      "mimetype": "text/x-python",
      "name": "python",
      "nbconvert_exporter": "python",
      "pygments_lexer": "ipython3",
      "version": "3.10.5"
    },
    "vscode": {
      "interpreter": {
        "hash": "4f47db039316e8c8cb83e1a6b80f71475094dc18f64932e6ee413cb9548e859d"
      }
    }
  },
  "nbformat": 4,
  "nbformat_minor": 5
}