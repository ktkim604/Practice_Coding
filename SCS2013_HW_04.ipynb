{
  "cells": [
    {
      "cell_type": "markdown",
      "metadata": {
        "id": "view-in-github",
        "colab_type": "text"
      },
      "source": [
        "<a href=\"https://colab.research.google.com/github/ktkim604/Practice_Coding/blob/main/SCS2013_HW_04.ipynb\" target=\"_parent\"><img src=\"https://colab.research.google.com/assets/colab-badge.svg\" alt=\"Open In Colab\"/></a>"
      ]
    },
    {
      "cell_type": "markdown",
      "id": "99c15682",
      "metadata": {
        "id": "99c15682"
      },
      "source": [
        "## HW 4-1. Airplane Class (50pt)\n",
        "\n",
        "Instruction: \n",
        "\n",
        "Class를 이용하여 비행기 클래스 `Airplane` 를 완성하세요.\n",
        "\n",
        "class `Airplane` :\n",
        "- 생성자: instance variable 초기화\n",
        "  - `name`: airplane 이름 \n",
        "  - `flytimes`: 총 비행 횟수\n",
        "  - `fuel_consumption`: 비행기가 매번 소비하는 연료의 양 (fuel amount per one flight)\n",
        "  - `fuel_state`: 현재 연료 잔량 (current amount of fuel)\n",
        "  - `repair_period`: 점검이 필요한 비행주기 \n",
        "  - `is_repaired` : 비행기가 수리된 상태인지 나타내는 boolean 입니다. 객체 생성 시 받아오는 값이 아니라, 초기에는 True가 저장됩니다. (boolean indicating repair status of the plane)\n",
        "  \n",
        "- `display()`\n",
        "  - 클래스의 인스턴수 변수를 아래와 같이 출력합니다. (`name, flytimes, fuel_consumption, fuel_state, repair_period, is_repaired`)\n",
        "  \n",
        "```{self.name} made a total of {self.flytimes} flights, each flight needs {self.fuel_consumption} fuel. Current fuel state: {self.fuel_state}, and needs to take repair service every {self.repair_period} time. Repaired: {self.is_repaired}```\n",
        "  \n",
        "- `repair()`\n",
        "  - `repair()` 메소드는 비행기를 수리하는 메소드입니다. \n",
        "  - `is_repaired`의 상태를 True로 바꾼 후 \"repaired..!\" 를 출력합니다.\n",
        "\n",
        "- `available()`\n",
        "  - `available()` 메소드는 비행기가 점검이 필요한지, 연료가 충분한지 확인하고 비행이 가능한지를 (T/F) return합니다. (check whether the plane needs a repair, and whether it has enough fuel for a flight)\n",
        "  - 승객 안전을 위해 항공기는 `repair_period`의 비행횟수 마다 점검을 해야합니다. 점검이 필요한 주기라면 `repair()` 메소드를 호출하여 비행기를 수리합니다. (수리는 즉시된다고 가정하여 바로 비행가능합니다) (if repair is required, call repair() method)\n",
        "  - 현재 비행기에 있는 잔여 연료가 비행마다 드는 연료보다 적으면 비행할 수 없습니다. 즉, `fuel_state`가 `fuel_consumption`보다 많은지 확인하세요. \n",
        "    - 연료가 충분하지 않다면 \"Not enough Fuel!\"을 출력합니다.\n",
        "  - 비행기가 수리가 필요없고, 잔여 연료가 충분하다면 `True`를 return 합니다. 아니라면 `False`를 return 합니다.\n",
        "\n",
        "- `fly()`\n",
        "  - `fly()` 메소드는 비행기를 비행하는 메소드입니다. 비행 전에 `available()`메소드를 통해 비행에 적합한지 점검을 확인 한 후, 적합하다면 비행합니다.\n",
        "    - `fuel_state`의 양이 `fuel_consumption`만큼 소모되고, `flytimes`가 1만큼 증가합니다.\n",
        "  - 만약 비행기가 점검이 필요한 주기라면 (`repair_period` 주기라면) `is_repaired` 변수를 False로 설정하고 \"repair needed\"를 출력합니다.\n",
        "  \n",
        "- `fill(amount)`\n",
        "  - `fill()` 메소드는 비행기의 연료를 보충하는 함수입니다. `fuel_state`를 입력받은 `amount`만큼 보충합니다. (make `fuel_state` increased by `amount`)\n",
        "  - 변동된 `fuel_state`의 값도 다음과 같이 출력하세요. `Fuelled. Current fuel state: {self.fuel_state}`\n",
        "\n"
      ]
    },
    {
      "cell_type": "code",
      "execution_count": null,
      "id": "ae7f9f6c",
      "metadata": {
        "id": "ae7f9f6c"
      },
      "outputs": [],
      "source": [
        "#solution\n",
        "\n",
        "class Airplane():\n",
        "  def __init__(self, name, flytimes, fuel_consumption, fuel_state, repair_period, is_repaired = True): \n",
        "    #your coder here\n",
        "    self.name = name\n",
        "    self.flytimes = flytimes\n",
        "    self.fuel_consumption = fuel_consumption\n",
        "    self.fuel_state = fuel_state\n",
        "    self.repair_period = repair_period\n",
        "    self.is_repaired = is_repaired\n",
        "\n",
        "\n",
        "    #############\n",
        "    \n",
        "\n",
        "  def repair(self):\n",
        "    #your coder here\n",
        "    #========================\n",
        "    self.is_repaired = True\n",
        "    print(\"repaired..!\")\n",
        "    #############\n",
        "    \n",
        "  def available(self):  \n",
        "    #your coder here\n",
        "    #========================\n",
        "    if self.fuel_state < self.fuel_consumption:\n",
        "      print(\"Not enough Fuel !\")\n",
        "      return False\n",
        "    \n",
        "    if self.flytimes%self.repair_period ==0:\n",
        "      self.repair()\n",
        "      return self.is_repaired\n",
        "\n",
        "    else:\n",
        "      return self.is_repaired\n",
        "    #############\n",
        "    \n",
        "  def fly(self):\n",
        "    #your coder here\n",
        "    #========================\n",
        "    if self.available():\n",
        "      self.flytimes+=1\n",
        "      self.fuel_state -=self.fuel_consumption\n",
        "      if self.flytimes % self.repair_period == 0:\n",
        "        print('repair needed')\n",
        "        self.is_repaired=False    \n",
        "    #############\n",
        "    \n",
        "  def fill(self, amount):\n",
        "    #your coder here\n",
        "    #========================\n",
        "    self.fuel_state+=amount\n",
        "    print(f'Fuelled. Current fuel state: {self.fuel_state}')\n",
        "    #############\n",
        "                \n",
        "  def display(self):\n",
        "    print(f\"{self.name} made a total of {self.flytimes} flights, each flight needs {self.fuel_consumption} fuel. Current fuel state: {self.fuel_state}, and needs to take repair service every {self.repair_period} time. Repaired: {self.is_repaired}\")\n",
        "    "
      ]
    },
    {
      "cell_type": "markdown",
      "id": "C7Yr4_BXEKgI",
      "metadata": {
        "id": "C7Yr4_BXEKgI"
      },
      "source": [
        "예상되는 결과:\n",
        "```\n",
        "choose operation: fly, fill, exit: fly\n",
        "ㅡㅡㅡㅡㅡㅡㅡㅡㅡㅡㅡㅡㅡㅡㅡㅡㅡㅡㅡㅡㅡㅡㅡㅡㅡㅡㅡㅡㅡㅡㅡㅡ\n",
        "Action: fly\n",
        "Not enough fuel!\n",
        "Koair made a total of 10 flights, each flight needs 1000 fuel. Current fuel state: 700, and needs to take repair service every 3 times. Repaired: True\n",
        "choose operation: fly, fill, exit: fill\n",
        "ㅡㅡㅡㅡㅡㅡㅡㅡㅡㅡㅡㅡㅡㅡㅡㅡㅡㅡㅡㅡㅡㅡㅡㅡㅡㅡㅡㅡㅡㅡㅡㅡ\n",
        "Action: fill\n",
        "How many liters of fuel would you fill?:7000\n",
        "Fuelled. Current fuel state: 7700\n",
        "Koair made a total of 10 flights, each flight needs 1000 fuel. Current fuel state: 7700, and needs to take repair service every 3 times. Repaired: True\n",
        "choose operation: fly, fill, exit: fly\n",
        "ㅡㅡㅡㅡㅡㅡㅡㅡㅡㅡㅡㅡㅡㅡㅡㅡㅡㅡㅡㅡㅡㅡㅡㅡㅡㅡㅡㅡㅡㅡㅡㅡ\n",
        "Action: fly\n",
        "Flight Successful\n",
        "Koair made a total of 11 flights, each flight needs 1000 fuel. Current fuel state: 6700, and needs to take repair service every 3 times. Repaired: True\n",
        "choose operation: fly, fill, exit: fly\n",
        "ㅡㅡㅡㅡㅡㅡㅡㅡㅡㅡㅡㅡㅡㅡㅡㅡㅡㅡㅡㅡㅡㅡㅡㅡㅡㅡㅡㅡㅡㅡㅡㅡ\n",
        "Action: fly\n",
        "Flight Successful\n",
        "After flight: Repair needed\n",
        "Koair made a total of 12 flights, each flight needs 1000 fuel. Current fuel state: 5700, and needs to take repair service every 3 times. Repaired: False\n",
        "choose operation: fly, fill, exit: fly\n",
        "ㅡㅡㅡㅡㅡㅡㅡㅡㅡㅡㅡㅡㅡㅡㅡㅡㅡㅡㅡㅡㅡㅡㅡㅡㅡㅡㅡㅡㅡㅡㅡㅡ\n",
        "Action: fly\n",
        "repaired...!\n",
        "Flight Successful\n",
        "Koair made a total of 13 flights, each flight needs 1000 fuel. Current fuel state: 4700, and needs to take repair service every 3 times. Repaired: True\n",
        "choose operation: fly, fill, exit: fly\n",
        "ㅡㅡㅡㅡㅡㅡㅡㅡㅡㅡㅡㅡㅡㅡㅡㅡㅡㅡㅡㅡㅡㅡㅡㅡㅡㅡㅡㅡㅡㅡㅡㅡ\n",
        "Action: fly\n",
        "Flight Successful\n",
        "Koair made a total of 14 flights, each flight needs 1000 fuel. Current fuel state: 3700, and needs to take repair service every 3 times. Repaired: True\n",
        "choose operation: fly, fill, exit: fly\n",
        "ㅡㅡㅡㅡㅡㅡㅡㅡㅡㅡㅡㅡㅡㅡㅡㅡㅡㅡㅡㅡㅡㅡㅡㅡㅡㅡㅡㅡㅡㅡㅡㅡ\n",
        "Action: fly\n",
        "Flight Successful\n",
        "After flight: Repair needed\n",
        "Koair made a total of 15 flights, each flight needs 1000 fuel. Current fuel state: 2700, and needs to take repair service every 3 times. Repaired: False\n",
        "choose operation: fly, fill, exit: fly\n",
        "ㅡㅡㅡㅡㅡㅡㅡㅡㅡㅡㅡㅡㅡㅡㅡㅡㅡㅡㅡㅡㅡㅡㅡㅡㅡㅡㅡㅡㅡㅡㅡㅡ\n",
        "Action: fly\n",
        "repaired...!\n",
        "Flight Successful\n",
        "Koair made a total of 16 flights, each flight needs 1000 fuel. Current fuel state: 1700, and needs to take repair service every 3 times. Repaired: True\n",
        "choose operation: fly, fill, exit: exit\n",
        "ㅡㅡㅡㅡㅡㅡㅡㅡㅡㅡㅡㅡㅡㅡㅡㅡㅡㅡㅡㅡㅡㅡㅡㅡㅡㅡㅡㅡㅡㅡㅡㅡ\n",
        "Action: exit\n",
        "```"
      ]
    },
    {
      "cell_type": "code",
      "execution_count": null,
      "id": "sJfiOyhDB-Um",
      "metadata": {
        "id": "sJfiOyhDB-Um",
        "colab": {
          "base_uri": "https://localhost:8080/"
        },
        "outputId": "03e89583-54be-49c8-b459-9fe321a390f9"
      },
      "outputs": [
        {
          "output_type": "stream",
          "name": "stdout",
          "text": [
            "choose operation: fly, fill, exit: fly\n",
            "ㅡㅡㅡㅡㅡㅡㅡㅡㅡㅡㅡㅡㅡㅡㅡㅡㅡㅡㅡㅡㅡㅡㅡㅡㅡㅡㅡㅡㅡㅡㅡㅡ\n",
            "Action: fly\n",
            "Not enough Fuel\n",
            "Koair made a total of 10 flights, each flight needs 1000 fuel. Current fuel state: 700, and needs to take repair service every 3 time. Repaired: True\n",
            "choose operation: fly, fill, exit: fill\n",
            "ㅡㅡㅡㅡㅡㅡㅡㅡㅡㅡㅡㅡㅡㅡㅡㅡㅡㅡㅡㅡㅡㅡㅡㅡㅡㅡㅡㅡㅡㅡㅡㅡ\n",
            "Action: fill\n",
            "How many liters of fuel would you fill?:7000\n",
            "Fuelled. Current fuel state: 7700\n",
            "Koair made a total of 10 flights, each flight needs 1000 fuel. Current fuel state: 7700, and needs to take repair service every 3 time. Repaired: True\n",
            "choose operation: fly, fill, exit: fly\n",
            "ㅡㅡㅡㅡㅡㅡㅡㅡㅡㅡㅡㅡㅡㅡㅡㅡㅡㅡㅡㅡㅡㅡㅡㅡㅡㅡㅡㅡㅡㅡㅡㅡ\n",
            "Action: fly\n",
            "Koair made a total of 11 flights, each flight needs 1000 fuel. Current fuel state: 6700, and needs to take repair service every 3 time. Repaired: True\n",
            "choose operation: fly, fill, exit: fly\n",
            "ㅡㅡㅡㅡㅡㅡㅡㅡㅡㅡㅡㅡㅡㅡㅡㅡㅡㅡㅡㅡㅡㅡㅡㅡㅡㅡㅡㅡㅡㅡㅡㅡ\n",
            "Action: fly\n",
            "repair needed\n",
            "Koair made a total of 12 flights, each flight needs 1000 fuel. Current fuel state: 5700, and needs to take repair service every 3 time. Repaired: False\n",
            "choose operation: fly, fill, exit: fly\n",
            "ㅡㅡㅡㅡㅡㅡㅡㅡㅡㅡㅡㅡㅡㅡㅡㅡㅡㅡㅡㅡㅡㅡㅡㅡㅡㅡㅡㅡㅡㅡㅡㅡ\n",
            "Action: fly\n",
            "repaired..!\n",
            "Koair made a total of 13 flights, each flight needs 1000 fuel. Current fuel state: 4700, and needs to take repair service every 3 time. Repaired: True\n",
            "choose operation: fly, fill, exit: fly\n",
            "ㅡㅡㅡㅡㅡㅡㅡㅡㅡㅡㅡㅡㅡㅡㅡㅡㅡㅡㅡㅡㅡㅡㅡㅡㅡㅡㅡㅡㅡㅡㅡㅡ\n",
            "Action: fly\n",
            "Koair made a total of 14 flights, each flight needs 1000 fuel. Current fuel state: 3700, and needs to take repair service every 3 time. Repaired: True\n",
            "choose operation: fly, fill, exit: fly\n",
            "ㅡㅡㅡㅡㅡㅡㅡㅡㅡㅡㅡㅡㅡㅡㅡㅡㅡㅡㅡㅡㅡㅡㅡㅡㅡㅡㅡㅡㅡㅡㅡㅡ\n",
            "Action: fly\n",
            "repair needed\n",
            "Koair made a total of 15 flights, each flight needs 1000 fuel. Current fuel state: 2700, and needs to take repair service every 3 time. Repaired: False\n",
            "choose operation: fly, fill, exit: fly\n",
            "ㅡㅡㅡㅡㅡㅡㅡㅡㅡㅡㅡㅡㅡㅡㅡㅡㅡㅡㅡㅡㅡㅡㅡㅡㅡㅡㅡㅡㅡㅡㅡㅡ\n",
            "Action: fly\n",
            "repaired..!\n",
            "Koair made a total of 16 flights, each flight needs 1000 fuel. Current fuel state: 1700, and needs to take repair service every 3 time. Repaired: True\n",
            "choose operation: fly, fill, exit: exit\n",
            "ㅡㅡㅡㅡㅡㅡㅡㅡㅡㅡㅡㅡㅡㅡㅡㅡㅡㅡㅡㅡㅡㅡㅡㅡㅡㅡㅡㅡㅡㅡㅡㅡ\n",
            "Action: exit\n"
          ]
        }
      ],
      "source": [
        "# test your code:\n",
        "airplane = Airplane(name='Koair', flytimes=10, fuel_consumption=1000, fuel_state=700, repair_period=3)\n",
        "\n",
        "while True:\n",
        "  action=input('choose operation: fly, fill, exit: ')\n",
        "  print('ㅡㅡㅡㅡㅡㅡㅡㅡㅡㅡㅡㅡㅡㅡㅡㅡㅡㅡㅡㅡㅡㅡㅡㅡㅡㅡㅡㅡㅡㅡㅡㅡ')\n",
        "  try:\n",
        "    if action == 'fly':\n",
        "      print('Action: fly')\n",
        "      airplane.fly()\n",
        "      airplane.display()\n",
        "      \n",
        "    elif action == 'fill':\n",
        "      print('Action: fill')\n",
        "      \n",
        "      fill_amount = int(input(\"How many liters of fuel would you fill?:\" ))\n",
        "      airplane.fill(fill_amount)\n",
        "      airplane.display()\n",
        "  \n",
        "    elif action == 'exit':\n",
        "      print('Action: exit')\n",
        "      break\n",
        "      \n",
        "  except:\n",
        "    print('wrong operation!')"
      ]
    },
    {
      "cell_type": "markdown",
      "id": "gfbfJyIciE3D",
      "metadata": {
        "id": "gfbfJyIciE3D"
      },
      "source": [
        "\n",
        "## HW 4-2. Account Class (50pt)\n",
        "\n",
        "Instruction: \n",
        "\n",
        "Class를 이용하여 계좌정보 클래스 `Account` 를 완성하세요.\n",
        "\n",
        "class `Account` :\n",
        "- 클래스 변수: \n",
        "  - `instances`: Account class의 생성된 모든 계좌 객체들을 저장하는 리스트 (A list of Account objects that have been created so far)\n",
        "- 생성자: instance variable 초기화\n",
        "  - `holder_name` : 계좌 소유주 이름\n",
        "  - `balance` : 계좌 잔고\n",
        "    - 아무 값도 입력되지 않는다면, `balance` 의 초기값은 0으로 설정 (default value is 0)\n",
        "  - `acc_number` : 계좌번호 (account number is randomly generated (range is up to you!), but the number should be unique from the other existing accounts)\n",
        "    - 계좌번호는 입력받지 않고 생성자에서 랜덤 integer으로 생성함 (범위는 자유). 생성되는 계좌번호는 다른 계좌 instance와 중복되지 않도록 함 (다른 계좌의 정보는 클래스 변수 `instsances`를 사용하여 확인)\n",
        "    - hint: 다른 계좌들의 계좌번호를 파악하기 위해 map을 사용할 수도 있음 (다른 방법도 가능)\n",
        "  - instance가 성공적으로 생성된 경우, 현재 instance를 클래스 변수 `instances` (list 형태)에 저장한다: \"객체\"를 `instances`에 추가해야 함에 유의. (if an object is successfully created, need to add the instance to the class variable `instances`)\n",
        "- `deposit(amount)`\n",
        "  - amount 만큼의 돈을 계좌 잔고에 입금함 (별다른 return 없음) \n",
        "- `withdraw(amount)`\n",
        "  - amount 만큼의 돈을 계좌 잔고에서 출금\n",
        "  - 만일 잔고가 부족하다면 메시지를 출력: e.g., \"balance is not enough!\" (if a balance is not enought for the withdraw, please print warning message)\n",
        "  - 성공과 실패를 알리는 boolean 타입의 `flag` 변수를 만들어 출금에 성공했다면 True 를 return하고, 실패했다면 False를 return한다. (return a flag indicating sucess of the withdraw)\n",
        "- `transfer(amount, dest_acc_number)`\n",
        "  - `amount` 만큼의 돈을 `dest_acc_number` 계좌번호를 가진 해당 계좌로 송금 (transfer `amount` money to the `dest_acc_number` account)\n",
        "  - 송금받은 대상 계좌에서는 `amount` 를 \"deposit\"하고, 현 계좌에서는 `amount` 를 \"withdraw\" 함으로써 송금이 이루어짐\n",
        "  - 송금에 성공했다면 \"Transfer Success\"를 출력하고, 계좌번호가 존재하지 않다면 `Could not transfer. Wrong acc_number.`을 출력한다. (송금에 실패할 경우 withdraw되지 않아야하니 조심) (If the destination account information is incorrect, or if the balance of this account (source) is not enough for a transfer, make a warning message. Otherwise, transfer the money: deposit at the destination and withdraw at the source account)\n",
        "- `print_info()` : 계좌 정보를 출력"
      ]
    },
    {
      "cell_type": "code",
      "execution_count": null,
      "id": "6e932157",
      "metadata": {
        "id": "6e932157"
      },
      "outputs": [],
      "source": [
        "import random\n",
        "\n",
        "class Account():\n",
        "  instances = []\n",
        "\n",
        "  ####### Your code here: constructor #######\n",
        "  def __init__(self, holder_name, balance = 0):\n",
        "    self.holder_name = holder_name\n",
        "    self.balance = balance\n",
        "\n",
        "    while True:\n",
        "      self.acc_number = random.randint(0, 999)\n",
        "      if self.acc_number not in list(map(lambda x : x.acc_number, Account.instances)):\n",
        "        break\n",
        "    Account.instances.append(self)\n",
        "\n",
        "  ###########\n",
        "    \n",
        "  ####### Your code here: deposit #######\n",
        "  def deposit(self, amount):\n",
        "    if amount >= 1: \n",
        "      self.balance += amount\n",
        "\n",
        "  ###########\n",
        "  \n",
        "  ####### Your code here: withdraw #######\n",
        "  def withdraw(self, amount):\n",
        "    flag = True\n",
        "    if self.balance < amount:\n",
        "      print(\"balance is not enough !\")\n",
        "      return flag\n",
        "      \n",
        "    else:\n",
        "      self.balance -= amount\n",
        "      return not flag\n",
        "\n",
        "  ###########\n",
        "    \n",
        "  ####### Your code here: transfer #######\n",
        "  def transfer(self, amount, dest_acc_number):\n",
        "    acc_num_list = list(map(lambda x: x.acc_number, Account.instances))\n",
        "    if dest_acc_number in acc_num_list:\n",
        "        self.withdraw(amount)\n",
        "        Account.instances[acc_num_list.index(dest_acc_number)].deposit(amount)\n",
        "        print(\"Transfer Success\")\n",
        "\n",
        "    else:\n",
        "        print('Could not transfer. Wrong acc_number.')\n",
        "  \n",
        "  ###########\n",
        "        \n",
        "  def print_info(self):\n",
        "    print(f'Account name {self.holder_name}, number {self.acc_number}, balance {self.balance}')"
      ]
    },
    {
      "cell_type": "markdown",
      "id": "c8b947ce",
      "metadata": {
        "id": "c8b947ce"
      },
      "source": [
        "예상 결과:\n",
        "```\n",
        "acc_a = Account('Alice', balance=500)\n",
        "acc_b = Account('Bob', balance=1000)\n",
        "acc_c = Account('Chris', balance=0) \n",
        "print(\"Information of all accounts: \")\n",
        "for acc in Account.instances: \n",
        "  acc.print_info()\n",
        ">>>\n",
        "Information of all accounts: \n",
        "Account name Alice, number 48, balance 500\n",
        "Account name Bob, number 25, balance 1000\n",
        "Account name Chris, number 75, balance 0\n",
        "```\n"
      ]
    },
    {
      "cell_type": "code",
      "execution_count": null,
      "id": "0vH6a47zyou8",
      "metadata": {
        "id": "0vH6a47zyou8",
        "colab": {
          "base_uri": "https://localhost:8080/"
        },
        "outputId": "a68d4191-3388-443a-abab-0d6104731d9d"
      },
      "outputs": [
        {
          "output_type": "stream",
          "name": "stdout",
          "text": [
            "Information of all accounts: \n",
            "Account name Alice, number 942, balance 500\n",
            "Account name Bob, number 155, balance 1000\n",
            "Account name Chris, number 733, balance 0\n"
          ]
        }
      ],
      "source": [
        "# 클래스 변수를 만들었을 경우, 클래스 변수는 class가 재정의되기 전까지는 계속하여 값이 추가되므로, \n",
        "# 아래의 코드를 여러번 실행할 경우, 클래스 변수에 값이 계속하여 추가되므로 Account.instances를 매번 초기화해줍니다.\n",
        "Account.instances = []\n",
        "\n",
        "acc_a = Account('Alice', balance=500)\n",
        "acc_b = Account('Bob', balance=1000)\n",
        "acc_c = Account('Chris', balance=0) \n",
        "print(\"Information of all accounts: \")\n",
        "for acc in Account.instances: \n",
        "  acc.print_info()"
      ]
    },
    {
      "cell_type": "markdown",
      "id": "aSePlSy-OqkD",
      "metadata": {
        "id": "aSePlSy-OqkD"
      },
      "source": [
        "예상 결과:\n",
        "```\n",
        "acc_a.deposit(300)\n",
        "acc_a.print_info()\n",
        "\n",
        "print('=====')\n",
        "\n",
        "acc_a.withdraw(600)\n",
        "acc_a.print_info()\n",
        ">>> \n",
        "Account name Alice, number 48, balance 800\n",
        "=====\n",
        "Account name Alice, number 48, balance 200\n",
        "```"
      ]
    },
    {
      "cell_type": "code",
      "execution_count": null,
      "id": "d178e5cd",
      "metadata": {
        "id": "d178e5cd",
        "colab": {
          "base_uri": "https://localhost:8080/"
        },
        "outputId": "77661f89-5486-4626-f55c-c97345cf4f32"
      },
      "outputs": [
        {
          "output_type": "stream",
          "name": "stdout",
          "text": [
            "Account name Alice, number 942, balance 800\n",
            "=====\n",
            "Account name Alice, number 942, balance 200\n"
          ]
        }
      ],
      "source": [
        "acc_a.deposit(300)\n",
        "acc_a.print_info()\n",
        "\n",
        "print('=====')\n",
        "\n",
        "acc_a.withdraw(600)\n",
        "acc_a.print_info()"
      ]
    },
    {
      "cell_type": "markdown",
      "id": "oX3nNPmaO1iL",
      "metadata": {
        "id": "oX3nNPmaO1iL"
      },
      "source": [
        "예상 결과:\n",
        "```\n",
        "acc_b.transfer(300, 123) ######### 틀린 계좌번호\n",
        "acc_b.print_info()\n",
        "acc_c.print_info()\n",
        "\n",
        "print('=====')\n",
        "\n",
        "acc_b.transfer(300, 75) ######### Chris의 계좌번호\n",
        "acc_b.print_info()\n",
        "acc_c.print_info()\n",
        ">>> \n",
        "Could not transfer. Wrong acc_number\n",
        "Account name Bob, number 25, balance 1000\n",
        "Account name Chris, number 75, balance 0\n",
        "=====\n",
        "Transfer Success!\n",
        "Account name Bob, number 25, balance 700\n",
        "Account name Chris, number 75, balance 300\n",
        "```"
      ]
    },
    {
      "cell_type": "code",
      "execution_count": null,
      "id": "8593e14b",
      "metadata": {
        "id": "8593e14b",
        "colab": {
          "base_uri": "https://localhost:8080/"
        },
        "outputId": "a6af073a-4a72-4982-9584-bc65d8e2d762"
      },
      "outputs": [
        {
          "output_type": "stream",
          "name": "stdout",
          "text": [
            "Could not transfer. Wrong acc_number.\n",
            "Account name Bob, number 155, balance 1000\n",
            "Account name Chris, number 733, balance 0\n",
            "=====\n",
            "Transfer Success\n",
            "Account name Bob, number 155, balance 700\n",
            "Account name Chris, number 733, balance 300\n"
          ]
        }
      ],
      "source": [
        "acc_b.transfer(300, 123) ######### 틀린 계좌번호\n",
        "acc_b.print_info()\n",
        "acc_c.print_info()\n",
        "\n",
        "print('=====')\n",
        "\n",
        "acc_b.transfer(300, 733) ######### Chris의 계좌번호를 넣어야 합니다\n",
        "acc_b.print_info()\n",
        "acc_c.print_info()"
      ]
    },
    {
      "cell_type": "code",
      "source": [],
      "metadata": {
        "id": "e9-Rl61Eu-z-"
      },
      "id": "e9-Rl61Eu-z-",
      "execution_count": null,
      "outputs": []
    }
  ],
  "metadata": {
    "colab": {
      "provenance": [],
      "toc_visible": true,
      "include_colab_link": true
    },
    "kernelspec": {
      "display_name": "Python 3 (ipykernel)",
      "language": "python",
      "name": "python3"
    },
    "language_info": {
      "codemirror_mode": {
        "name": "ipython",
        "version": 3
      },
      "file_extension": ".py",
      "mimetype": "text/x-python",
      "name": "python",
      "nbconvert_exporter": "python",
      "pygments_lexer": "ipython3",
      "version": "3.9.7"
    },
    "vscode": {
      "interpreter": {
        "hash": "4f47db039316e8c8cb83e1a6b80f71475094dc18f64932e6ee413cb9548e859d"
      }
    }
  },
  "nbformat": 4,
  "nbformat_minor": 5
}