{
 "cells": [
  {
   "cell_type": "code",
   "execution_count": 1,
   "id": "e1c094f1",
   "metadata": {},
   "outputs": [],
   "source": [
    "num_list = [5,4,3,2,1]"
   ]
  },
  {
   "cell_type": "code",
   "execution_count": 2,
   "id": "e7ee8c04",
   "metadata": {},
   "outputs": [],
   "source": [
    "num_list.sort()"
   ]
  },
  {
   "cell_type": "code",
   "execution_count": 3,
   "id": "49e7bf7a",
   "metadata": {},
   "outputs": [
    {
     "name": "stdout",
     "output_type": "stream",
     "text": [
      "[1, 2, 3, 4, 5]\n"
     ]
    }
   ],
   "source": [
    "print(num_list)"
   ]
  },
  {
   "cell_type": "code",
   "execution_count": 4,
   "id": "958a26d5",
   "metadata": {},
   "outputs": [
    {
     "name": "stdout",
     "output_type": "stream",
     "text": [
      "[5, 4, 3, 2, 1]\n"
     ]
    }
   ],
   "source": [
    "#순서 뒤집기\n",
    "num_list.reverse()\n",
    "print(num_list)"
   ]
  },
  {
   "cell_type": "code",
   "execution_count": 5,
   "id": "7e9264ca",
   "metadata": {},
   "outputs": [],
   "source": [
    "num_list.clear()"
   ]
  },
  {
   "cell_type": "code",
   "execution_count": 6,
   "id": "bac993f0",
   "metadata": {},
   "outputs": [
    {
     "name": "stdout",
     "output_type": "stream",
     "text": [
      "[]\n"
     ]
    }
   ],
   "source": [
    "print(num_list)"
   ]
  },
  {
   "cell_type": "code",
   "execution_count": 7,
   "id": "3ab45614",
   "metadata": {},
   "outputs": [],
   "source": [
    "# 다양한 자료형 함께 사용 가능\n",
    "num_list = [5,4,3,2,1]\n",
    "mix_list = [\"조세호\", 20, True]"
   ]
  },
  {
   "cell_type": "code",
   "execution_count": 8,
   "id": "6a027b4d",
   "metadata": {},
   "outputs": [
    {
     "name": "stdout",
     "output_type": "stream",
     "text": [
      "[5, 4, 3, 2, 1, '조세호', 20, True]\n"
     ]
    }
   ],
   "source": [
    "# 리스트 확장\n",
    "num_list.extend(mix_list)\n",
    "print(num_list)"
   ]
  },
  {
   "cell_type": "code",
   "execution_count": 9,
   "id": "6973d3bf",
   "metadata": {},
   "outputs": [
    {
     "name": "stdout",
     "output_type": "stream",
     "text": [
      "[True, 20, '조세호', 1, 2, 3, 4, 5]\n"
     ]
    }
   ],
   "source": [
    "num_list.reverse()\n",
    "print(num_list)"
   ]
  },
  {
   "cell_type": "code",
   "execution_count": 10,
   "id": "febce5b6",
   "metadata": {},
   "outputs": [
    {
     "name": "stdout",
     "output_type": "stream",
     "text": [
      "[5, 4, 3, 2, 1, '조세호', 20, True]\n"
     ]
    }
   ],
   "source": [
    "num_list.reverse()\n",
    "print(num_list)"
   ]
  },
  {
   "cell_type": "code",
   "execution_count": 11,
   "id": "3fd946b9",
   "metadata": {},
   "outputs": [
    {
     "name": "stdout",
     "output_type": "stream",
     "text": [
      "['조세호', 20, True, 5, 4, 3, 2, 1, '조세호', 20, True]\n"
     ]
    }
   ],
   "source": [
    "mix_list.extend(num_list)\n",
    "print(mix_list)"
   ]
  },
  {
   "cell_type": "code",
   "execution_count": 12,
   "id": "5cb94d79",
   "metadata": {},
   "outputs": [],
   "source": [
    "# 튜플 : 내용변경과 추가 불가능 하지만, 속도가 리스트보다 빠름"
   ]
  },
  {
   "cell_type": "code",
   "execution_count": 13,
   "id": "ed885db5",
   "metadata": {},
   "outputs": [
    {
     "name": "stdout",
     "output_type": "stream",
     "text": [
      "돈까스\n",
      "치즈까스\n"
     ]
    }
   ],
   "source": [
    "menu = (\"돈까스\", \"치즈까스\")\n",
    "print(menu[0])\n",
    "print(menu[1])"
   ]
  },
  {
   "cell_type": "code",
   "execution_count": 14,
   "id": "7f59e7f3",
   "metadata": {},
   "outputs": [],
   "source": [
    "#집합 (set)"
   ]
  },
  {
   "cell_type": "code",
   "execution_count": 15,
   "id": "05ecc911",
   "metadata": {},
   "outputs": [
    {
     "name": "stdout",
     "output_type": "stream",
     "text": [
      "{1, 2, 3}\n"
     ]
    }
   ],
   "source": [
    "my_set = {1,2,3,3,3}\n",
    "print(my_set)"
   ]
  },
  {
   "cell_type": "code",
   "execution_count": 16,
   "id": "4cd9be3e",
   "metadata": {},
   "outputs": [
    {
     "name": "stdout",
     "output_type": "stream",
     "text": [
      "{'커피', '주스', '우유'} <class 'set'>\n"
     ]
    }
   ],
   "source": [
    "#자료구조의 변경\n",
    "menu = {\"커피\", \"우유\", \"주스\"}\n",
    "print(menu, type(menu))"
   ]
  },
  {
   "cell_type": "code",
   "execution_count": 17,
   "id": "12e7569a",
   "metadata": {},
   "outputs": [
    {
     "name": "stdout",
     "output_type": "stream",
     "text": [
      "['커피', '주스', '우유'] <class 'list'>\n"
     ]
    }
   ],
   "source": [
    "menu = list(menu)\n",
    "print(menu, type(menu))"
   ]
  },
  {
   "cell_type": "code",
   "execution_count": 18,
   "id": "1b701cef",
   "metadata": {},
   "outputs": [
    {
     "name": "stdout",
     "output_type": "stream",
     "text": [
      "('커피', '주스', '우유') <class 'tuple'>\n"
     ]
    }
   ],
   "source": [
    "menu = tuple(menu)\n",
    "print(menu, type(menu))"
   ]
  },
  {
   "cell_type": "code",
   "execution_count": 19,
   "id": "af9b62df",
   "metadata": {},
   "outputs": [],
   "source": [
    "from random import*\n",
    "users = range(1,21) #1부터 20까지 숫자를 생성\n",
    "users = list(users)"
   ]
  },
  {
   "cell_type": "code",
   "execution_count": 20,
   "id": "a41bddca",
   "metadata": {},
   "outputs": [
    {
     "name": "stdout",
     "output_type": "stream",
     "text": [
      "[1, 2, 3, 4, 5, 6, 7, 8, 9, 10, 11, 12, 13, 14, 15, 16, 17, 18, 19, 20]\n"
     ]
    }
   ],
   "source": [
    "print(users)"
   ]
  },
  {
   "cell_type": "code",
   "execution_count": 21,
   "id": "19740ef8",
   "metadata": {},
   "outputs": [],
   "source": [
    "shuffle(users)"
   ]
  },
  {
   "cell_type": "code",
   "execution_count": 22,
   "id": "3c0e3dd0",
   "metadata": {},
   "outputs": [
    {
     "name": "stdout",
     "output_type": "stream",
     "text": [
      "[4, 18, 7, 9, 11, 14, 16, 2, 15, 5, 8, 19, 1, 12, 10, 20, 3, 17, 13, 6]\n"
     ]
    }
   ],
   "source": [
    "print(users)"
   ]
  },
  {
   "cell_type": "code",
   "execution_count": 23,
   "id": "f1d16d5e",
   "metadata": {},
   "outputs": [],
   "source": [
    "winners = sample(users, 4)"
   ]
  },
  {
   "cell_type": "code",
   "execution_count": 24,
   "id": "0b2584a4",
   "metadata": {},
   "outputs": [
    {
     "name": "stdout",
     "output_type": "stream",
     "text": [
      "--당첨자 발표--\n",
      "치킨 당첨자 :7\n",
      "커피 당첨자 :[1, 12, 4]\n"
     ]
    }
   ],
   "source": [
    "print(\"--당첨자 발표--\")\n",
    "print(\"치킨 당첨자 :{0}\".format(winners[0]))\n",
    "print(\"커피 당첨자 :{0}\".format(winners[1:]))\n"
   ]
  },
  {
   "cell_type": "code",
   "execution_count": null,
   "id": "075cb084",
   "metadata": {},
   "outputs": [],
   "source": []
  }
 ],
 "metadata": {
  "kernelspec": {
   "display_name": "Python 3 (ipykernel)",
   "language": "python",
   "name": "python3"
  },
  "language_info": {
   "codemirror_mode": {
    "name": "ipython",
    "version": 3
   },
   "file_extension": ".py",
   "mimetype": "text/x-python",
   "name": "python",
   "nbconvert_exporter": "python",
   "pygments_lexer": "ipython3",
   "version": "3.7.11"
  }
 },
 "nbformat": 4,
 "nbformat_minor": 5
}
