{
  "nbformat": 4,
  "nbformat_minor": 0,
  "metadata": {
    "colab": {
      "provenance": [],
      "collapsed_sections": [],
      "toc_visible": true,
      "include_colab_link": true
    },
    "kernelspec": {
      "name": "python3",
      "display_name": "Python 3"
    },
    "language_info": {
      "name": "python"
    }
  },
  "cells": [
    {
      "cell_type": "markdown",
      "metadata": {
        "id": "view-in-github",
        "colab_type": "text"
      },
      "source": [
        "<a href=\"https://colab.research.google.com/github/ktkim604/Practice_Coding/blob/main/SCS2013_b_midterm.ipynb\" target=\"_parent\"><img src=\"https://colab.research.google.com/assets/colab-badge.svg\" alt=\"Open In Colab\"/></a>"
      ]
    },
    {
      "cell_type": "markdown",
      "source": [
        "# SCS2013 Python Programming Midterm Exam (2022-Fall 2분반)\n",
        "\n",
        "SCS2013 Python Programming 중간고사입니다. \n",
        "\n",
        "주어진 설명을 잘 읽고, 구체적인 지시사항이 있다면 그에 따라 구현하세요. \n",
        "\n",
        "코드를 완성한 후, **SCS2013_b_midterm_학번_이름.ipynb** 로 파일을 저장한 후 eclass의 과제제출을 통해 제출하세요. "
      ],
      "metadata": {
        "id": "6g5gGAZllAWT"
      }
    },
    {
      "cell_type": "markdown",
      "source": [
        "## P-1 (15pts)\n",
        "\n",
        "string formatting을 사용하여 `data`로 주어진 여러 물품들의 물품 명, 물품 개수, 가격, 회사 명에 관한 정보를 아래와 같은 형태로 출력하세요. \n",
        "- 포매팅 방법은 자유롭게 사용해도 됩니다: % operator, .format(), f-string 모두 가능. \n",
        "- 값을 직접 출력하는 것이 아니라, 반복문을 사용하여 `data`에 접근해야 합니다. \n",
        "- 물품 명과 회사 명은 **왼쪽 정렬된 10자리**로 표현합니다. (물품 명과 회사 명은 string으로 표현)\n",
        "- 물품 개수와 가격은 **가운데 정렬된 10자리**로 표현합니다. (물품 개수는 integer, 가격은 소수점 3자리의 float로 표현)\n",
        "\n",
        "실행 결과: \n",
        "```\n",
        "Computer      10     193.920  Dell      \n",
        "Sneakers      23      13.500  Nike      \n",
        "Jean          6       15.000  ABC       \n",
        "Pen          123      1.253   SCS123    \n",
        "```\n",
        "\n",
        "- (추가 사항: + 3pts) `frame`에 주어진 정보들('Product', 'Counts', 'Price', 'Company')도 포매팅을 사용하여 아래와 같이 정렬된 형태로 표현해보세요. 'Product'와 'Company'는 왼쪽 정렬된 10자리이며, 'Counts'와 'Price'는 가운데 정렬 10자리입니다.\n",
        "\n",
        "실행 결과: \n",
        "```\n",
        "Product***!!Counts!!--Price---Company+++\n",
        "Computer      10     193.920  Dell      \n",
        "Sneakers      23      13.500  Nike      \n",
        "Jean          6       15.000  ABC       \n",
        "Pen          123      1.253   SCS123    \n",
        "```\n"
      ],
      "metadata": {
        "id": "pRNb2B-YUP7O"
      }
    },
    {
      "cell_type": "code",
      "source": [
        "# P-1\n",
        "frame = ('Product', 'Counts', 'Price', 'Company')\n",
        "sales = [('Computer', 10, 193.92, 'Dell'), \n",
        "         ('Sneakers', 23, 13.5, 'Nike'), \n",
        "         ('Jean', 6, 15, 'ABC'), \n",
        "         ('Pen', 123, 1.2532, 'SCS123')]\n",
        "\n",
        "# your code here:\n",
        "# option: printing values in frame\n",
        "print(f'{frame[0]:*<10}{frame[1]:!^10}{frame[2]:-^10}{frame[3]:+<10}')\n",
        "# printing values in sales\n",
        "for i in sales:\n",
        "  print(f'{i[0]:<10}{i[1]:^10}{i[2]:^10.3f}{i[3]:<10}')\n",
        "\n"
      ],
      "metadata": {
        "id": "U3XYPZ4fw-s6",
        "colab": {
          "base_uri": "https://localhost:8080/"
        },
        "outputId": "0e2bfda8-9c14-4ed6-d959-eb9e337ff1d2"
      },
      "execution_count": null,
      "outputs": [
        {
          "output_type": "stream",
          "name": "stdout",
          "text": [
            "Product***!!Counts!!--Price---Company+++\n",
            "Computer      10     193.920  Dell      \n",
            "Sneakers      23      13.500  Nike      \n",
            "Jean          6       15.000  ABC       \n",
            "Pen          123      1.253   SCS123    \n"
          ]
        }
      ]
    },
    {
      "cell_type": "markdown",
      "source": [
        "## P-2 (15pts)\n",
        "\n",
        "다양한 단어와 숫자들로 이루어진 리스트 `lst`가 주어질 때, `lambda` 함수와 `map()` 혹은 `filter()`를 사용하여 다음의 두 작업을 구현하세요. \n",
        "\n",
        "- **(a)** `symmetric_lst`는 `lst`의 원소들 중 **좌우 대칭**인 원소들만 골라 만들어진 리스트입니다. \n",
        "  * 좌우 대칭인 단어는 정 방향으로 읽어도 역 방향으로 읽어도 동일한 단어를 의미합니다. \n",
        "  * 이를 확인하기 위해서는 원소들을 string으로 바꾸어 체크하는 것이 좋습니다. \n",
        "\n",
        "- **(b)** `com_lst`는 `lst`의 각 원소들에 대해 `.com`을 이어붙여 만들어진 리스트입니다. \n",
        "  * hint: 숫자 형태의 원소에는 바로 '.com'을 이어붙이기 어렵습니다.\n",
        "\n",
        "\n",
        "실행 결과:\n",
        "```\n",
        "print(symmetric_lst)\n",
        ">>> \n",
        "['Noon', 'madam', 'Refer', 121, 12321]\n",
        "```\n",
        "```\n",
        "print(com_lst)\n",
        ">>> \n",
        "['Noon.com', 'baNAna.com', 'meLon.com', 'madam.com', 'Refer.com', 'mango.com', '121.com', '123.com', '12321.com']\n",
        "```\n"
      ],
      "metadata": {
        "id": "SxHdrlmhoiNK"
      }
    },
    {
      "cell_type": "code",
      "source": [
        "# P-2\n",
        "lst = ['Noon', 'baNAna', 'meLon', 'madam', 'Refer', 'mango', 121, 123, 12321]\n",
        "\n",
        "# (a) your code here: \n",
        "symmetric_lst = list(filter(lambda x: str(x).upper()[0] == str(x).upper()[-1], lst))\n",
        "# symmetric_lst = list(filter(lambda x: str(x).uuper() == str(x).uper()[::-1], lst))"
      ],
      "metadata": {
        "id": "wX45DT_h_Dsv"
      },
      "execution_count": null,
      "outputs": []
    },
    {
      "cell_type": "code",
      "source": [
        "# P-2\n",
        "lst = ['Noon', 'baNAna', 'meLon', 'madam', 'Refer', 'mango', 121, 123, 12321]\n",
        "\n",
        "# (b) your code here: \n",
        "com_lst = list(map(lambda x: str(x) + '.com', lst))"
      ],
      "metadata": {
        "id": "9P8NnqNw_WmI"
      },
      "execution_count": null,
      "outputs": []
    },
    {
      "cell_type": "code",
      "source": [
        "# check your code:\n",
        "print(symmetric_lst)\n",
        "print(com_lst)"
      ],
      "metadata": {
        "id": "LYvNHhSU_ZNW",
        "colab": {
          "base_uri": "https://localhost:8080/"
        },
        "outputId": "b7a75d96-c825-4b09-e19a-cf181f0e069d"
      },
      "execution_count": null,
      "outputs": [
        {
          "output_type": "stream",
          "name": "stdout",
          "text": [
            "['Noon', 'madam', 'Refer', 121, 12321]\n",
            "['Noon.com', 'baNAna.com', 'meLon.com', 'madam.com', 'Refer.com', 'mango.com', '121.com', '123.com', '12321.com']\n"
          ]
        }
      ]
    },
    {
      "cell_type": "markdown",
      "source": [
        "## P-3 (20pts)\n",
        "\n",
        "사용자로부터 이름과 나이를 입력받아 각각 리스트에 저장하여 반환하는 함수 `get_info` 를 구현하세요. \n",
        "- 이 함수는 함수 호출 시 입력값이 필요하지 않습니다. \n",
        "- 함수가 실행되는 동안 사용자로부터 이름을 입력받습니다. \n",
        "- 만일 사용자가 'quit' 혹은 'Q'를 입력하면 함수를 종료합니다. \n",
        "- 적절한 이름이 입력된 경우 사용자로부터 나이를 입력받으며, 나이가 양수인 정수로 입력되지 않으면 'Wrong information!'을 출력합니다.\n",
        "- 'quit' 혹은 'Q'가 입력되기 전까지 **반복하여** 위와 같이 이름과 나이를 입력받습니다.\n",
        "- 입력받은 이름과 나이를 리스트로 만들어 반환합니다. \n",
        "\n",
        "실행 결과 (예시):\n",
        "```\n",
        "name_lst, age_lst = get_info()\n",
        ">>> \n",
        "Enter a Name (enter quit or Q to exit): >>> Alice\n",
        "Enter the age of Alice: >>> 10\n",
        "Enter a Name (enter quit or Q to exit): >>> Bob\n",
        "Enter the age of Bob: >>> 32\n",
        "Enter a Name (enter quit or Q to exit): >>> Peter\n",
        "Enter the age of Peter: >>> -13\n",
        "Wrong information!\n",
        "Enter a Name (enter quit or Q to exit): >>> John\n",
        "Enter the age of John: >>> 28\n",
        "Enter a Name (enter quit or Q to exit): >>> Julia\n",
        "Enter the age of Julia: >>> 53\n",
        "Enter a Name (enter quit or Q to exit): >>> Q\n",
        "```\n",
        "```\n",
        "print(name_lst, age_lst)\n",
        ">>>\n",
        "['Alice', 'Bob', 'John', 'Julia'] [10, 32, 28, 53]\n",
        "```"
      ],
      "metadata": {
        "id": "elop56tLDlss"
      }
    },
    {
      "cell_type": "code",
      "source": [
        "# P-3\n",
        "# your code here:\n",
        "\n",
        "def get_info():\n",
        "    name_lst,age_lst = [],[]\n",
        "    while 1:\n",
        "        name = input('Enter a Name (enter quit or Q to exit): >>> ')\n",
        "        if name =='Q' or name=='quit':\n",
        "            break\n",
        "        else:\n",
        "            age = input(f\"Enter the age of {name}: >>>\")\n",
        "            if age.isnumeric():  # 숫자 판별 함수 사용\n",
        "                age = int(age)\n",
        "                name_lst.append(name)\n",
        "                age_lst.append(age)\n",
        "            else:\n",
        "                print('Wrong information!')\n",
        "                continue\n",
        "            \n",
        "    return name_lst,age_lst"
      ],
      "metadata": {
        "id": "W1xBDcInAfji"
      },
      "execution_count": null,
      "outputs": []
    },
    {
      "cell_type": "code",
      "source": [
        "# check your code:\n",
        "name_lst, age_lst = get_info()\n",
        "print(name_lst, age_lst)"
      ],
      "metadata": {
        "id": "u3UDeB9B0Kqe",
        "colab": {
          "base_uri": "https://localhost:8080/"
        },
        "outputId": "e9a1692c-2150-4e63-83aa-aa1e375b0395"
      },
      "execution_count": null,
      "outputs": [
        {
          "output_type": "stream",
          "name": "stdout",
          "text": [
            "Enter a Name (enter quit or Q to exit): >>> Alice\n",
            "Enter the age of Alice: >>>44\n",
            "Enter a Name (enter quit or Q to exit): >>> Q\n",
            "['Alice'] [44]\n"
          ]
        }
      ]
    },
    {
      "cell_type": "markdown",
      "source": [
        "df## P-4 (15pts)\n",
        "\n",
        "**임의의 개수**의 문장을 입력받아 다음과 같은 작업을 수행하는 함수 `check_sentences` 함수를 구현하세요. \n",
        "- 임의의 개수의 (영어) 문장 (string) 을 입력받습니다. \n",
        "- 각 문장에 대해 다음을 확인하고 수행합니다:\n",
        "  - 문장이 시작 문자만 대문자로 시작할 수 있도록 수정합니다.\n",
        "  - 문장이 온점 (.) 물음표 (?) 느낌표 (!) 로 끝나는 지 확인하고, 그렇지 않은 경우 항상 온점 (.) 으로 끝날 수 있도록 수정합니다. \n",
        "- 수정된 각 문장들을 원소로 하는 **리스트**를 만들어 반환합니다.\n",
        "\n",
        "실행 결과:\n",
        "```\n",
        "sentence_lst1 = check_sentences('hello everyone', 'Hello, Everyone!', 'hello World.', 'how aRe You?')\n",
        "print(sentence_lst1)\n",
        ">>>\n",
        "['Hello everyone.', 'Hello, everyone!', 'Hello world.', 'How are you?']\n",
        "```\n",
        "```\n",
        "sentence_lst2 = check_sentences('I\\'m good, Thank you!', 'have a Nice day')\n",
        "print(sentence_lst2)\n",
        ">>>\n",
        "[\"I'm good, thank you!\", 'Have a nice day.']\n",
        "```"
      ],
      "metadata": {
        "id": "9KPuI2uOxbKi"
      }
    },
    {
      "cell_type": "code",
      "source": [
        "# P-4\n",
        "# your code here:\n",
        "def check_sentences(*krgs):\n",
        "    answer = []\n",
        "\n",
        "    for string in krgs:\n",
        "        if string[-1] not in ['!','?','.']:\n",
        "            string += '.'\n",
        "        string = string.lower()\n",
        "        string = string.capitalize()\n",
        "        answer.append(string)\n",
        "    return answer"
      ],
      "metadata": {
        "id": "JoUt8Ykg6jsS"
      },
      "execution_count": null,
      "outputs": []
    },
    {
      "cell_type": "code",
      "source": [
        "# check your code:\n",
        "sentence_lst1 = check_sentences('hello everyone', 'Hello, Everyone!', 'hello World.', 'how aRe You?')\n",
        "print(sentence_lst1)\n",
        "\n",
        "sentence_lst2 = check_sentences('I\\'m good, Thank you!', 'have a Nice day')\n",
        "print(sentence_lst2)"
      ],
      "metadata": {
        "id": "JjFjF1xAxC-i",
        "colab": {
          "base_uri": "https://localhost:8080/"
        },
        "outputId": "aa4b5e0e-928d-4f72-b0ce-347aca905c66"
      },
      "execution_count": null,
      "outputs": [
        {
          "output_type": "stream",
          "name": "stdout",
          "text": [
            "['Hello everyone.', 'Hello, everyone!', 'Hello world.', 'How are you?']\n",
            "[\"I'm good, thank you!\", 'Have a nice day.']\n"
          ]
        }
      ]
    },
    {
      "cell_type": "markdown",
      "source": [
        "## P-5 (10pts)\n",
        "\n",
        "주어진 리스트 `lst`의 원소값들 중 **세번째로 작은** 원소값을 찾는 코드를 구현하세요. \n",
        "- 리스트 `lst`에는 중복된 값이 포함될 수 있음에 유의하세요. \n",
        "- 항상 서로 다른 세 개 이상의 값이 `lst`에 있다고 가정합니다.\n",
        "- 중복된 값이 있어도 세번째로 작은 원소값을 찾을 수 있어야 합니다. \n",
        "\n",
        "실행 결과:\n",
        "```\n",
        "lst = [5,7,15,21,21,5,4,7]\n",
        ">>>\n",
        "Third smallest value is: 7\n",
        "```\n"
      ],
      "metadata": {
        "id": "CF7m0AxI3fP8"
      }
    },
    {
      "cell_type": "code",
      "source": [
        "# P-5\n",
        "lst = [5,7,15,21,21,5,4,7]\n",
        "\n",
        "# your code here:\n",
        "\n",
        "lst = set(lst)\n",
        "lst = sorted(lst, reverse=True)\n",
        "answer = lst[-3]\n",
        "\n",
        "# for i in range(3):\n",
        "#     lst = sorted(lst, reverse=True)\n",
        "#     answer = lst.pop()\n",
        "    \n",
        "print('Third smallest value is: ',answer)\n"
      ],
      "metadata": {
        "id": "sX9iWTFtEWVa",
        "colab": {
          "base_uri": "https://localhost:8080/"
        },
        "outputId": "80ce527b-e8e6-4435-fdae-165c2f750d1a"
      },
      "execution_count": 3,
      "outputs": [
        {
          "output_type": "stream",
          "name": "stdout",
          "text": [
            "Third smallest value is:  7\n"
          ]
        }
      ]
    },
    {
      "cell_type": "markdown",
      "source": [
        "## P-6 (15pts)\n",
        "\n",
        "* **(a)** 하나의 정수를 입력받아 아래와 같은 삼각형 패턴을 출력하는 함수 `print_pattern`을 **반복문**을 사용하여 구현하세요.\n",
        "  * 각 줄의 패턴은 가운데 정렬된 20자리로 출력하여야 삼각형 패턴 출력이 가능합니다. (혹은 다른 방법을 사용해도 됩니다.)\n",
        "\n",
        "  실행 결과:\n",
        "  ```\n",
        "  print_pattern(5)\n",
        "  >>>\n",
        "     +++++++++      \n",
        "      +++++++       \n",
        "       +++++        \n",
        "        +++         \n",
        "         +          \n",
        "  ```\n",
        "\n",
        "* **(b)** 동일한 기능을 하는 함수 `print_pattern_recur`를 **재귀함수**로 구현하세요.\n",
        "  \n",
        "  실행 결과:\n",
        "  ```\n",
        "  print_pattern_recur(5)\n",
        "  >>>\n",
        "     +++++++++      \n",
        "      +++++++       \n",
        "       +++++        \n",
        "        +++         \n",
        "         +          \n",
        "  ```\n",
        "\n",
        "* **(c)** 하나의 정수를 입력받아 아래와 같은 패턴을 출력하는 함수 `print_shape`을 구현하세요. \n",
        "  * 반복문 혹은 재귀함수 중 아무거나 사용하여도 됩니다. \n",
        "  * 반복문 버전과 재귀함수버전을 모두 구현한 경우 추가점수 (+5pts)\n",
        "  \n",
        "  실행 결과:\n",
        "  ```\n",
        "  print_shape(5)\n",
        "  >>>\n",
        "  +++++\n",
        "  ++++\n",
        "  +++\n",
        "  ++\n",
        "  +\n",
        "  +\n",
        "  ++\n",
        "  +++\n",
        "  ++++\n",
        "  +++++  \n",
        "  ```\n"
      ],
      "metadata": {
        "id": "eNcoR4cjxrrb"
      }
    },
    {
      "cell_type": "code",
      "source": [
        "# P-6\n",
        "# (a) your code here:\n",
        "def print_pattern(n):\n",
        "    for i in range(n,0,-1):\n",
        "        print(\"{0:^20}\".format(((2*i)-1)*'+'))"
      ],
      "metadata": {
        "id": "X4c8cik3CpZA"
      },
      "execution_count": null,
      "outputs": []
    },
    {
      "cell_type": "code",
      "source": [
        "# P-6\n",
        "# (a) check your code:\n",
        "print_pattern(5)"
      ],
      "metadata": {
        "id": "31D80sxKCsjd",
        "colab": {
          "base_uri": "https://localhost:8080/"
        },
        "outputId": "8577d3a1-c5c0-4a82-837f-638781f4e735"
      },
      "execution_count": null,
      "outputs": [
        {
          "output_type": "stream",
          "name": "stdout",
          "text": [
            "     +++++++++      \n",
            "      +++++++       \n",
            "       +++++        \n",
            "        +++         \n",
            "         +          \n"
          ]
        }
      ]
    },
    {
      "cell_type": "code",
      "source": [
        "# P-6\n",
        "# (b) your code here:\n",
        "def print_pattern_recur(n):\n",
        "    if n == 0:\n",
        "        return\n",
        "    print(\"{0:^20}\".format(((2*n)-1)*'+'))\n",
        "    return print_pattern_recur(n-1)\n",
        "  \n",
        "# def print_pattern_recur(num):\n",
        "#   if num>0:\n",
        "#     my_str = '+' + (2*num-1)\n",
        "#     print(f'{my_str}:^20')\n",
        "#     print_pattern_recur(num-1)\n"
      ],
      "metadata": {
        "id": "OjwWVMDsDKFj"
      },
      "execution_count": null,
      "outputs": []
    },
    {
      "cell_type": "code",
      "source": [
        "# P-6\n",
        "# (b) check your code:\n",
        "print_pattern_recur(5)"
      ],
      "metadata": {
        "id": "AxgNjJ9uDLQX",
        "colab": {
          "base_uri": "https://localhost:8080/"
        },
        "outputId": "28d54ff3-a184-44aa-90b1-6056b119f005"
      },
      "execution_count": null,
      "outputs": [
        {
          "output_type": "stream",
          "name": "stdout",
          "text": [
            "     +++++++++      \n",
            "      +++++++       \n",
            "       +++++        \n",
            "        +++         \n",
            "         +          \n"
          ]
        }
      ]
    },
    {
      "cell_type": "code",
      "source": [
        "# P-6\n",
        "# (c) your code here:\n",
        "\n",
        "def print_shape(n):\n",
        "    for i in range(n,0,-1):\n",
        "        print('+'*i)\n",
        "    for i in range(1,n+1):\n",
        "        print('+'*i)\n",
        "\n",
        "# def print_shape_recur(n):\n",
        "    \n",
        "#     cnt = n \n",
        "#     def x(num):\n",
        "#         if num == 0:\n",
        "#             return 0\n",
        "#         if num == 1:\n",
        "            \n",
        "#             print('+'*num,end='')\n",
        "#         else:\n",
        "#             print('+'*num)\n",
        "#         return x(num-1)\n",
        "    \n",
        "#     def y(num):\n",
        "#         if num > cnt:\n",
        "#             return \n",
        "#         print('+'*num)\n",
        "#         return y(num+1)\n",
        "#     flag = x(n)\n",
        "#     if flag == 0:\n",
        "#         y(flag)\n",
        "\n",
        "def print_shape_recur(num):\n",
        "  if num > 0:\n",
        "    print('+'*num)\n",
        "    print_shape_recur(num-1)\n",
        "    print('+'*num)\n"
      ],
      "metadata": {
        "id": "zSDLRzQE2K3Y"
      },
      "execution_count": null,
      "outputs": []
    },
    {
      "cell_type": "code",
      "source": [
        "# P-6\n",
        "# (c) check your code:\n",
        "print_shape(5)\n",
        "print(\"=================\")\n",
        "print_shape_recur(5)"
      ],
      "metadata": {
        "id": "IOynjJYYxu-n",
        "colab": {
          "base_uri": "https://localhost:8080/"
        },
        "outputId": "a7bd7297-0818-4ddb-e7f3-5eed33f104d7"
      },
      "execution_count": null,
      "outputs": [
        {
          "output_type": "stream",
          "name": "stdout",
          "text": [
            "+++++\n",
            "++++\n",
            "+++\n",
            "++\n",
            "+\n",
            "+\n",
            "++\n",
            "+++\n",
            "++++\n",
            "+++++\n",
            "=================\n",
            "+++++\n",
            "++++\n",
            "+++\n",
            "++\n",
            "+\n",
            "+\n",
            "++\n",
            "+++\n",
            "++++\n",
            "+++++\n"
          ]
        }
      ]
    },
    {
      "cell_type": "markdown",
      "source": [
        "## P-7 (10pts)\n",
        "\n",
        "사용자로부터 하나의 정수를 입력 받아 **2의 거듭제곱**인지 확인하는 코드를 구현하세요. \n",
        "- 사용자로부터 하나의 숫자를 입력받고, 그 숫자가 2의 거듭제곱인지 아닌지 확인하여 2의 거듭제곱인 경우 'Power of Two!'를 출력하세요.\n",
        "- 반복문을 써도 되고, 다른 방법을 사용해도 됩니다. (배운 내용에 한하여 사용할 수 있으며, 'math'는 사용하면 안됩니다.)\n",
        "- 만일 사용자가 정수를 입력하지 않았거나, 양수를 입력하지 않은 경우 'Wrong Input!' 문장을 출력하세요.\n",
        "\n",
        "실행 결과:\n",
        "```\n",
        "Enter a positive integer: >>> 32\n",
        "Power of Two!\n",
        "```\n",
        "```\n",
        "Enter a positive integer: >>> 27\n",
        "```\n",
        "```\n",
        "Enter a positive integer: >>> -14\n",
        "Wrong Input!\n",
        "```\n",
        "```\n",
        "Enter a positive integer: >>> 2.5\n",
        "Wrong Input!\n",
        "```\n",
        "```\n",
        "Enter a positive integer: >>> abc\n",
        "Wrong Input!\n",
        "```"
      ],
      "metadata": {
        "id": "5iVu2P9El7cH"
      }
    },
    {
      "cell_type": "code",
      "source": [
        "# P-7\n",
        "# your code here:\n",
        "# n = (input('Enter a positive integer: >>> '))\n",
        "\n",
        "# if n.isnumeric(): # 숫자 판별함수 사용\n",
        "#     if float(n) == int(n) and  int(n)>0:\n",
        "#             n = int(n)\n",
        "#             while 1:\n",
        "#                 if n == 1:\n",
        "#                     print('Power of Two!')\n",
        "#                     break\n",
        "\n",
        "#                 if n%2==0:\n",
        "#                     n = n//2\n",
        "#                 else:\n",
        "#                     break\n",
        "\n",
        "#     else:\n",
        "#         print('Wrong Input!')\n",
        "# else:\n",
        "#     print('Wrong Input!')\n",
        "\n",
        "try: \n",
        "  num = int(input(\"Enter a positive integer: \")) # 정수로 입력\n",
        "\n",
        "  if num <= 0: \n",
        "    raise # 입력값 음수이면 예외처리\n",
        "\n",
        "except:\n",
        "  print(\"Wrong input!\")   # 정수 아니면 예외 처리\n",
        "\n",
        "# 2의 거듭제곱: 16 -> 8 -> 4 -> 2 -> 1\n",
        "while num % 2 == 0:\n",
        "  num = num/2\n",
        "\n",
        "  if num == 1:\n",
        "    print(\"Power of Two!\")"
      ],
      "metadata": {
        "id": "0fuiw5FQ-nJd",
        "colab": {
          "base_uri": "https://localhost:8080/"
        },
        "outputId": "afe659cb-d420-462f-bcaa-e740f4dacdf6"
      },
      "execution_count": 4,
      "outputs": [
        {
          "output_type": "stream",
          "name": "stdout",
          "text": [
            "Enter a positive integer: -12\n",
            "Wrong input!\n"
          ]
        }
      ]
    },
    {
      "cell_type": "code",
      "source": [],
      "metadata": {
        "id": "ppjq90C05mQj"
      },
      "execution_count": null,
      "outputs": []
    }
  ]
}